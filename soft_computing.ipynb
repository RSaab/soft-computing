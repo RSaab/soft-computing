{
 "cells": [
  {
   "cell_type": "code",
   "execution_count": 57,
   "metadata": {},
   "outputs": [],
   "source": [
    "import pandas as pd\n",
    "import numpy as np\n",
    "import random\n",
    "import math"
   ]
  },
  {
   "cell_type": "code",
   "execution_count": 58,
   "metadata": {},
   "outputs": [],
   "source": [
    "flow = pd.read_csv(\"10_nodes_flow.csv\",header = None)\n",
    "cost = pd.read_csv(\"10_nodes_cost.csv\",header = None)"
   ]
  },
  {
   "cell_type": "code",
   "execution_count": 59,
   "metadata": {},
   "outputs": [
    {
     "data": {
      "text/html": [
       "<div>\n",
       "<style scoped>\n",
       "    .dataframe tbody tr th:only-of-type {\n",
       "        vertical-align: middle;\n",
       "    }\n",
       "\n",
       "    .dataframe tbody tr th {\n",
       "        vertical-align: top;\n",
       "    }\n",
       "\n",
       "    .dataframe thead th {\n",
       "        text-align: right;\n",
       "    }\n",
       "</style>\n",
       "<table border=\"1\" class=\"dataframe\">\n",
       "  <thead>\n",
       "    <tr style=\"text-align: right;\">\n",
       "      <th></th>\n",
       "      <th>0</th>\n",
       "      <th>1</th>\n",
       "      <th>2</th>\n",
       "      <th>3</th>\n",
       "      <th>4</th>\n",
       "      <th>5</th>\n",
       "      <th>6</th>\n",
       "      <th>7</th>\n",
       "      <th>8</th>\n",
       "      <th>9</th>\n",
       "    </tr>\n",
       "  </thead>\n",
       "  <tbody>\n",
       "    <tr>\n",
       "      <td>0</td>\n",
       "      <td>0</td>\n",
       "      <td>6469</td>\n",
       "      <td>7629</td>\n",
       "      <td>20036</td>\n",
       "      <td>4690</td>\n",
       "      <td>6194</td>\n",
       "      <td>11688</td>\n",
       "      <td>2243</td>\n",
       "      <td>8857</td>\n",
       "      <td>7248</td>\n",
       "    </tr>\n",
       "    <tr>\n",
       "      <td>1</td>\n",
       "      <td>6469</td>\n",
       "      <td>0</td>\n",
       "      <td>12999</td>\n",
       "      <td>13692</td>\n",
       "      <td>3322</td>\n",
       "      <td>5576</td>\n",
       "      <td>3878</td>\n",
       "      <td>3202</td>\n",
       "      <td>6699</td>\n",
       "      <td>4198</td>\n",
       "    </tr>\n",
       "    <tr>\n",
       "      <td>2</td>\n",
       "      <td>7629</td>\n",
       "      <td>12999</td>\n",
       "      <td>0</td>\n",
       "      <td>35135</td>\n",
       "      <td>5956</td>\n",
       "      <td>14121</td>\n",
       "      <td>5951</td>\n",
       "      <td>5768</td>\n",
       "      <td>16578</td>\n",
       "      <td>4242</td>\n",
       "    </tr>\n",
       "    <tr>\n",
       "      <td>3</td>\n",
       "      <td>20036</td>\n",
       "      <td>13692</td>\n",
       "      <td>35135</td>\n",
       "      <td>0</td>\n",
       "      <td>19094</td>\n",
       "      <td>35119</td>\n",
       "      <td>21423</td>\n",
       "      <td>27342</td>\n",
       "      <td>51341</td>\n",
       "      <td>15826</td>\n",
       "    </tr>\n",
       "    <tr>\n",
       "      <td>4</td>\n",
       "      <td>4690</td>\n",
       "      <td>3322</td>\n",
       "      <td>5956</td>\n",
       "      <td>19094</td>\n",
       "      <td>0</td>\n",
       "      <td>7284</td>\n",
       "      <td>3102</td>\n",
       "      <td>1562</td>\n",
       "      <td>7180</td>\n",
       "      <td>1917</td>\n",
       "    </tr>\n",
       "    <tr>\n",
       "      <td>5</td>\n",
       "      <td>6194</td>\n",
       "      <td>5576</td>\n",
       "      <td>14121</td>\n",
       "      <td>35119</td>\n",
       "      <td>7284</td>\n",
       "      <td>0</td>\n",
       "      <td>5023</td>\n",
       "      <td>3512</td>\n",
       "      <td>10419</td>\n",
       "      <td>3543</td>\n",
       "    </tr>\n",
       "    <tr>\n",
       "      <td>6</td>\n",
       "      <td>11688</td>\n",
       "      <td>3878</td>\n",
       "      <td>5951</td>\n",
       "      <td>21423</td>\n",
       "      <td>3102</td>\n",
       "      <td>5023</td>\n",
       "      <td>0</td>\n",
       "      <td>11557</td>\n",
       "      <td>6479</td>\n",
       "      <td>34261</td>\n",
       "    </tr>\n",
       "    <tr>\n",
       "      <td>7</td>\n",
       "      <td>2243</td>\n",
       "      <td>3202</td>\n",
       "      <td>5768</td>\n",
       "      <td>27342</td>\n",
       "      <td>1562</td>\n",
       "      <td>3512</td>\n",
       "      <td>11557</td>\n",
       "      <td>0</td>\n",
       "      <td>5615</td>\n",
       "      <td>7095</td>\n",
       "    </tr>\n",
       "    <tr>\n",
       "      <td>8</td>\n",
       "      <td>8857</td>\n",
       "      <td>6699</td>\n",
       "      <td>16578</td>\n",
       "      <td>51341</td>\n",
       "      <td>7180</td>\n",
       "      <td>10419</td>\n",
       "      <td>6479</td>\n",
       "      <td>5615</td>\n",
       "      <td>0</td>\n",
       "      <td>4448</td>\n",
       "    </tr>\n",
       "    <tr>\n",
       "      <td>9</td>\n",
       "      <td>7248</td>\n",
       "      <td>4198</td>\n",
       "      <td>4242</td>\n",
       "      <td>15826</td>\n",
       "      <td>1917</td>\n",
       "      <td>3543</td>\n",
       "      <td>34261</td>\n",
       "      <td>7095</td>\n",
       "      <td>4448</td>\n",
       "      <td>0</td>\n",
       "    </tr>\n",
       "  </tbody>\n",
       "</table>\n",
       "</div>"
      ],
      "text/plain": [
       "       0      1      2      3      4      5      6      7      8      9\n",
       "0      0   6469   7629  20036   4690   6194  11688   2243   8857   7248\n",
       "1   6469      0  12999  13692   3322   5576   3878   3202   6699   4198\n",
       "2   7629  12999      0  35135   5956  14121   5951   5768  16578   4242\n",
       "3  20036  13692  35135      0  19094  35119  21423  27342  51341  15826\n",
       "4   4690   3322   5956  19094      0   7284   3102   1562   7180   1917\n",
       "5   6194   5576  14121  35119   7284      0   5023   3512  10419   3543\n",
       "6  11688   3878   5951  21423   3102   5023      0  11557   6479  34261\n",
       "7   2243   3202   5768  27342   1562   3512  11557      0   5615   7095\n",
       "8   8857   6699  16578  51341   7180  10419   6479   5615      0   4448\n",
       "9   7248   4198   4242  15826   1917   3543  34261   7095   4448      0"
      ]
     },
     "execution_count": 59,
     "metadata": {},
     "output_type": "execute_result"
    }
   ],
   "source": [
    "flow"
   ]
  },
  {
   "cell_type": "code",
   "execution_count": 60,
   "metadata": {},
   "outputs": [
    {
     "data": {
      "text/plain": [
       "499513.0"
      ]
     },
     "execution_count": 60,
     "metadata": {},
     "output_type": "execute_result"
    }
   ],
   "source": [
    "total_flow = (flow.sum()).sum()/2\n",
    "total_flow"
   ]
  },
  {
   "cell_type": "code",
   "execution_count": 61,
   "metadata": {
    "scrolled": false
   },
   "outputs": [
    {
     "data": {
      "text/html": [
       "<div>\n",
       "<style scoped>\n",
       "    .dataframe tbody tr th:only-of-type {\n",
       "        vertical-align: middle;\n",
       "    }\n",
       "\n",
       "    .dataframe tbody tr th {\n",
       "        vertical-align: top;\n",
       "    }\n",
       "\n",
       "    .dataframe thead th {\n",
       "        text-align: right;\n",
       "    }\n",
       "</style>\n",
       "<table border=\"1\" class=\"dataframe\">\n",
       "  <thead>\n",
       "    <tr style=\"text-align: right;\">\n",
       "      <th></th>\n",
       "      <th>0</th>\n",
       "      <th>1</th>\n",
       "      <th>2</th>\n",
       "      <th>3</th>\n",
       "      <th>4</th>\n",
       "      <th>5</th>\n",
       "      <th>6</th>\n",
       "      <th>7</th>\n",
       "      <th>8</th>\n",
       "      <th>9</th>\n",
       "    </tr>\n",
       "  </thead>\n",
       "  <tbody>\n",
       "    <tr>\n",
       "      <td>0</td>\n",
       "      <td>0.0000</td>\n",
       "      <td>576.9631</td>\n",
       "      <td>946.4954</td>\n",
       "      <td>597.5972</td>\n",
       "      <td>373.8127</td>\n",
       "      <td>559.7673</td>\n",
       "      <td>709.0215</td>\n",
       "      <td>1208.3280</td>\n",
       "      <td>603.6477</td>\n",
       "      <td>695.2080</td>\n",
       "    </tr>\n",
       "    <tr>\n",
       "      <td>1</td>\n",
       "      <td>576.9631</td>\n",
       "      <td>0.0000</td>\n",
       "      <td>369.5327</td>\n",
       "      <td>613.0386</td>\n",
       "      <td>429.1079</td>\n",
       "      <td>312.8831</td>\n",
       "      <td>1196.4890</td>\n",
       "      <td>1502.1400</td>\n",
       "      <td>405.8975</td>\n",
       "      <td>1241.9610</td>\n",
       "    </tr>\n",
       "    <tr>\n",
       "      <td>2</td>\n",
       "      <td>946.4954</td>\n",
       "      <td>369.5327</td>\n",
       "      <td>0.0000</td>\n",
       "      <td>858.3308</td>\n",
       "      <td>749.6018</td>\n",
       "      <td>556.0706</td>\n",
       "      <td>1541.2730</td>\n",
       "      <td>1764.7910</td>\n",
       "      <td>621.3306</td>\n",
       "      <td>1603.1650</td>\n",
       "    </tr>\n",
       "    <tr>\n",
       "      <td>3</td>\n",
       "      <td>597.5972</td>\n",
       "      <td>613.0386</td>\n",
       "      <td>858.3308</td>\n",
       "      <td>0.0000</td>\n",
       "      <td>255.0303</td>\n",
       "      <td>311.3071</td>\n",
       "      <td>790.1213</td>\n",
       "      <td>907.4331</td>\n",
       "      <td>237.0703</td>\n",
       "      <td>932.2173</td>\n",
       "    </tr>\n",
       "    <tr>\n",
       "      <td>4</td>\n",
       "      <td>373.8127</td>\n",
       "      <td>429.1079</td>\n",
       "      <td>749.6018</td>\n",
       "      <td>255.0303</td>\n",
       "      <td>0.0000</td>\n",
       "      <td>225.8954</td>\n",
       "      <td>794.1726</td>\n",
       "      <td>1080.3740</td>\n",
       "      <td>238.9440</td>\n",
       "      <td>879.5647</td>\n",
       "    </tr>\n",
       "    <tr>\n",
       "      <td>5</td>\n",
       "      <td>559.7673</td>\n",
       "      <td>312.8831</td>\n",
       "      <td>556.0706</td>\n",
       "      <td>311.3071</td>\n",
       "      <td>225.8954</td>\n",
       "      <td>0.0000</td>\n",
       "      <td>1009.6890</td>\n",
       "      <td>1216.8680</td>\n",
       "      <td>94.2588</td>\n",
       "      <td>1104.5740</td>\n",
       "    </tr>\n",
       "    <tr>\n",
       "      <td>6</td>\n",
       "      <td>709.0215</td>\n",
       "      <td>1196.4890</td>\n",
       "      <td>1541.2730</td>\n",
       "      <td>790.1213</td>\n",
       "      <td>794.1726</td>\n",
       "      <td>1009.6890</td>\n",
       "      <td>0.0000</td>\n",
       "      <td>663.8762</td>\n",
       "      <td>982.7378</td>\n",
       "      <td>221.4220</td>\n",
       "    </tr>\n",
       "    <tr>\n",
       "      <td>7</td>\n",
       "      <td>1208.3280</td>\n",
       "      <td>1502.1400</td>\n",
       "      <td>1764.7910</td>\n",
       "      <td>907.4331</td>\n",
       "      <td>1080.3740</td>\n",
       "      <td>1216.8680</td>\n",
       "      <td>663.8762</td>\n",
       "      <td>0.0000</td>\n",
       "      <td>1143.7910</td>\n",
       "      <td>874.5181</td>\n",
       "    </tr>\n",
       "    <tr>\n",
       "      <td>8</td>\n",
       "      <td>603.6477</td>\n",
       "      <td>405.8975</td>\n",
       "      <td>621.3306</td>\n",
       "      <td>237.0703</td>\n",
       "      <td>238.9440</td>\n",
       "      <td>94.2588</td>\n",
       "      <td>982.7378</td>\n",
       "      <td>1143.7910</td>\n",
       "      <td>0.0000</td>\n",
       "      <td>1094.9060</td>\n",
       "    </tr>\n",
       "    <tr>\n",
       "      <td>9</td>\n",
       "      <td>695.2080</td>\n",
       "      <td>1241.9610</td>\n",
       "      <td>1603.1650</td>\n",
       "      <td>932.2173</td>\n",
       "      <td>879.5647</td>\n",
       "      <td>1104.5740</td>\n",
       "      <td>221.4220</td>\n",
       "      <td>874.5181</td>\n",
       "      <td>1094.9060</td>\n",
       "      <td>0.0000</td>\n",
       "    </tr>\n",
       "  </tbody>\n",
       "</table>\n",
       "</div>"
      ],
      "text/plain": [
       "           0          1          2         3          4          5          6  \\\n",
       "0     0.0000   576.9631   946.4954  597.5972   373.8127   559.7673   709.0215   \n",
       "1   576.9631     0.0000   369.5327  613.0386   429.1079   312.8831  1196.4890   \n",
       "2   946.4954   369.5327     0.0000  858.3308   749.6018   556.0706  1541.2730   \n",
       "3   597.5972   613.0386   858.3308    0.0000   255.0303   311.3071   790.1213   \n",
       "4   373.8127   429.1079   749.6018  255.0303     0.0000   225.8954   794.1726   \n",
       "5   559.7673   312.8831   556.0706  311.3071   225.8954     0.0000  1009.6890   \n",
       "6   709.0215  1196.4890  1541.2730  790.1213   794.1726  1009.6890     0.0000   \n",
       "7  1208.3280  1502.1400  1764.7910  907.4331  1080.3740  1216.8680   663.8762   \n",
       "8   603.6477   405.8975   621.3306  237.0703   238.9440    94.2588   982.7378   \n",
       "9   695.2080  1241.9610  1603.1650  932.2173   879.5647  1104.5740   221.4220   \n",
       "\n",
       "           7          8          9  \n",
       "0  1208.3280   603.6477   695.2080  \n",
       "1  1502.1400   405.8975  1241.9610  \n",
       "2  1764.7910   621.3306  1603.1650  \n",
       "3   907.4331   237.0703   932.2173  \n",
       "4  1080.3740   238.9440   879.5647  \n",
       "5  1216.8680    94.2588  1104.5740  \n",
       "6   663.8762   982.7378   221.4220  \n",
       "7     0.0000  1143.7910   874.5181  \n",
       "8  1143.7910     0.0000  1094.9060  \n",
       "9   874.5181  1094.9060     0.0000  "
      ]
     },
     "execution_count": 61,
     "metadata": {},
     "output_type": "execute_result"
    }
   ],
   "source": [
    "cost"
   ]
  },
  {
   "cell_type": "code",
   "execution_count": 62,
   "metadata": {},
   "outputs": [
    {
     "data": {
      "text/plain": [
       "7"
      ]
     },
     "execution_count": 62,
     "metadata": {},
     "output_type": "execute_result"
    }
   ],
   "source": [
    "random.randint(0,9)"
   ]
  },
  {
   "cell_type": "code",
   "execution_count": 63,
   "metadata": {},
   "outputs": [
    {
     "name": "stdout",
     "output_type": "stream",
     "text": [
      "[7, 9, 3]\n",
      "[7 9 9 3 7 9 3 7 7 9]\n"
     ]
    }
   ],
   "source": [
    "def original_solution(n):\n",
    "    hub = []\n",
    "    while len(hub) < n:\n",
    "        a = random.randint(0,9)\n",
    "        if a not in hub:\n",
    "            hub.append(a)\n",
    "    solution = np.arange(10)\n",
    "    for i in range(0,10):\n",
    "        b = random.randint(0,2)\n",
    "        if i in hub:\n",
    "            solution[i] = i\n",
    "        else:\n",
    "            solution[i] = hub[b]\n",
    "    return hub,solution\n",
    "\n",
    "original_solution = original_solution(3)\n",
    "hub = original_solution[0]\n",
    "solution = original_solution[1]\n",
    "print(hub)\n",
    "print(solution)"
   ]
  },
  {
   "cell_type": "code",
   "execution_count": 9,
   "metadata": {},
   "outputs": [],
   "source": [
    "def find_total_cost(solution,alpha):\n",
    "    dis = alpha\n",
    "    total_cost = 0\n",
    "    for m in range(len(cost)):\n",
    "        for n in range(0,m):\n",
    "            a = solution[m]\n",
    "            b = solution[n]\n",
    "            if a == b:\n",
    "                solution_cost = flow[m][n] * (cost[m][a] + cost[b][n])\n",
    "            else:\n",
    "                solution_cost = flow[m][n] * (cost[m][a] + cost[a][b] * dis + cost[b][n])\n",
    "            total_cost = total_cost + solution_cost\n",
    "    return total_cost"
   ]
  },
  {
   "cell_type": "code",
   "execution_count": 10,
   "metadata": {},
   "outputs": [
    {
     "data": {
      "text/plain": [
       "511183780.5858801"
      ]
     },
     "execution_count": 10,
     "metadata": {},
     "output_type": "execute_result"
    }
   ],
   "source": [
    "find_total_cost(solution,0.2)"
   ]
  },
  {
   "cell_type": "markdown",
   "metadata": {},
   "source": [
    "# tabu search ##"
   ]
  },
  {
   "cell_type": "code",
   "execution_count": 37,
   "metadata": {
    "scrolled": true
   },
   "outputs": [
    {
     "name": "stdout",
     "output_type": "stream",
     "text": [
      "[6, 3, 3, 3, 3, 5, 6, 5, 5, 6]\n",
      "[6, 3, 3, 3, 3, 5, 6, 6, 5, 6]\n",
      "[6, 3, 5, 3, 3, 5, 6, 6, 5, 6]\n",
      "[6, 5, 5, 3, 3, 5, 6, 6, 5, 6]\n",
      "[5, 5, 5, 3, 3, 5, 6, 6, 5, 6]\n",
      "[5, 5, 5, 3, 5, 5, 6, 6, 5, 6]\n",
      "[5, 5, 5, 3, 5, 5, 6, 6, 3, 6]\n",
      "[5, 5, 5, 3, 5, 5, 6, 3, 3, 6]\n",
      "[5, 5, 3, 3, 5, 5, 6, 3, 3, 6]\n",
      "[5, 3, 3, 3, 5, 5, 6, 3, 3, 6]\n"
     ]
    },
    {
     "data": {
      "text/plain": [
       "([5, 5, 5, 3, 5, 5, 6, 6, 5, 6], 245727593.58790004)"
      ]
     },
     "execution_count": 37,
     "metadata": {},
     "output_type": "execute_result"
    }
   ],
   "source": [
    "#tabu search\n",
    "def ts(hub,solution,alpha,max_tik):\n",
    "    \n",
    "    def candidate(hub,solution,tabu_list):\n",
    "        hub1 = hub\n",
    "        candidates = []\n",
    "       # print(solution)\n",
    "        for i in range(len(solution)):\n",
    "            origin_hub = hub1.copy()\n",
    "            base_solution = solution.copy()\n",
    "            if i != base_solution[i]:\n",
    "                origin_hub.remove(base_solution[i])\n",
    "                for j in origin_hub:\n",
    "                    if i not in tabu_list:\n",
    "                        base_solution[i] = j\n",
    "                        waiting_list = base_solution.copy()\n",
    "                        candidates.append(waiting_list)\n",
    "        return candidates\n",
    "    \n",
    "    def find_best_candidate(candidates):\n",
    "        potential_candidate = candidates.copy()\n",
    "        total_cost = find_total_cost(potential_candidate[0],alpha)\n",
    "        best_candidate = potential_candidate[0]\n",
    "        for i in potential_candidate:\n",
    "            candidate_cost = find_total_cost(i,alpha)\n",
    "            if candidate_cost < total_cost:\n",
    "                best_candidate = i\n",
    "                total_cost = candidate_cost\n",
    "        print(best_candidate)\n",
    "        return best_candidate\n",
    "    \n",
    "    def check(tabu_list,solution_old,solution_new,list_length,tik):\n",
    "    # check if the solution is in the tabu list\n",
    "        lowest_cost = find_total_cost(solution_old,alpha)\n",
    "        total_cost = find_total_cost(solution_new,alpha)\n",
    "        for i in range(len(solution_old)):\n",
    "            if solution_new[i] != solution_old[i]:\n",
    "                change = i\n",
    "        if change not in tabu_list:\n",
    "            solution = solution_new\n",
    "            tabu_list.append(change)\n",
    "            tik = tik + 1\n",
    "            if len(tabu_list) > list_length:\n",
    "                del tabu_list[0]\n",
    "        elif tik == max_tik and change in tabu_list and total_cost < lowest_cost:\n",
    "            solution = solution_new\n",
    "            tik = tik + 1\n",
    "            tabu_list.remove(change)\n",
    "        else:\n",
    "            solution = solution_old\n",
    "            \n",
    "        return solution,tabu_list,tik  \n",
    "        \n",
    "    tik = 0\n",
    "    tabu_list = []\n",
    "    tabu_length = 5\n",
    "    overall_best_solution = solution.copy()\n",
    "    while tik < max_tik:  \n",
    "        candidates = candidate(hub,solution,tabu_list)\n",
    "        best_candidate = find_best_candidate(candidates)\n",
    "        if find_total_cost(best_candidate,alpha) < find_total_cost(overall_best_solution,alpha):\n",
    "            overall_best_solution = best_candidate\n",
    "        iteration = check(tabu_list,solution,best_candidate,tabu_length,tik)\n",
    "        tabu_list = iteration[1]\n",
    "        solution = iteration[0]\n",
    "        tik = iteration[2]\n",
    "    \n",
    "    final_solution = overall_best_solution\n",
    "    final_cost = find_total_cost(overall_best_solution,alpha)    \n",
    "    return final_solution,final_cost\n",
    "              \n",
    "final_tabu_cost = ts([3,5,6], [6,3,3,3,3,5,6,5,5,5] , 0.2, 10)\n",
    "final_tabu_cost "
   ]
  },
  {
   "cell_type": "code",
   "execution_count": 38,
   "metadata": {},
   "outputs": [
    {
     "data": {
      "text/plain": [
       "491.9343312144029"
      ]
     },
     "execution_count": 38,
     "metadata": {},
     "output_type": "execute_result"
    }
   ],
   "source": [
    "optimal_tabu = final_tabu_cost[1]/total_flow\n",
    "optimal_tabu"
   ]
  },
  {
   "cell_type": "markdown",
   "metadata": {},
   "source": [
    "# simulated annealing"
   ]
  },
  {
   "cell_type": "code",
   "execution_count": 39,
   "metadata": {},
   "outputs": [
    {
     "data": {
      "text/plain": [
       "245727593.58790004"
      ]
     },
     "execution_count": 39,
     "metadata": {},
     "output_type": "execute_result"
    }
   ],
   "source": [
    "#simulated annealing\n",
    "\n",
    "def sa(hub,solution,alpha,initial_theta,max_tik,lamda,r_initial):\n",
    "\n",
    "    def candidate(hub,solution):\n",
    "        hub1 = hub\n",
    "        candidates = []\n",
    "        for i in range(len(solution)):\n",
    "            origin_hub = hub1.copy()\n",
    "            base_solution = solution.copy()\n",
    "            if i != base_solution[i]:\n",
    "                origin_hub.remove(base_solution[i])\n",
    "                for j in origin_hub:    \n",
    "                    base_solution[i] = j\n",
    "                    waiting_list = base_solution.copy()\n",
    "                    candidates.append(waiting_list)\n",
    "        return candidates\n",
    "    \n",
    "    tik = 1\n",
    "    theta = initial_theta\n",
    "    initial_solution = solution.copy()\n",
    "    solution_i = initial_solution\n",
    "    best_solution = solution_i\n",
    "    r = r_initial\n",
    "    while tik <= max_tik:\n",
    "        candidates = candidate(hub,solution_i)\n",
    "        for i in candidates:\n",
    "            if find_total_cost(i,alpha) < find_total_cost(best_solution,alpha):\n",
    "                best_solution = i\n",
    "            if find_total_cost(i,alpha) < find_total_cost(solution_i,alpha):\n",
    "                solution_i = i \n",
    "            else:\n",
    "                ran = random.random()\n",
    "                delta = find_total_cost(solution_i,alpha) - find_total_cost(i,alpha)\n",
    "                p = math.exp(delta/theta)\n",
    "                if ran < p:\n",
    "                    solution_i = i\n",
    "                if delta > 0:\n",
    "                    r = r + 1\n",
    "                elif delta < 0:\n",
    "                    r = 0\n",
    "            theta = theta + lamda * math.log(1 + r)\n",
    "            tik = tik + 1\n",
    "    \n",
    "    return find_total_cost(best_solution,alpha)\n",
    "                \n",
    "final_sa_cost = sa([3,5,6], [6,3,3,3,3,5,6,5,5,5],0.2,800000,100,0,0.8)                \n",
    "final_sa_cost\n"
   ]
  },
  {
   "cell_type": "code",
   "execution_count": 40,
   "metadata": {},
   "outputs": [
    {
     "data": {
      "text/plain": [
       "491.9343312144029"
      ]
     },
     "execution_count": 40,
     "metadata": {},
     "output_type": "execute_result"
    }
   ],
   "source": [
    "optimal_sa = final_sa_cost/total_flow\n",
    "optimal_sa"
   ]
  },
  {
   "cell_type": "markdown",
   "metadata": {},
   "source": [
    "# variable neighbourhood search"
   ]
  },
  {
   "cell_type": "code",
   "execution_count": 15,
   "metadata": {},
   "outputs": [],
   "source": [
    "def neighbourhood_structure(solution,hub,n):\n",
    "        \n",
    "    if n == 1:\n",
    "        # change initial hub\n",
    "        candidates = []\n",
    "        for i in range(len(solution)):\n",
    "            candidate = solution.copy()\n",
    "            initial_hub = candidate[i]\n",
    "            if i != candidate[i]:\n",
    "                for j in range(len(solution)):\n",
    "                    if candidate[j] == initial_hub:\n",
    "                        candidate[j] = i\n",
    "                waiting_list = candidate.copy()\n",
    "                candidates.append(waiting_list)\n",
    "        return candidates\n",
    "          \n",
    "            \n",
    "    elif n == 2:\n",
    "        #swap two nodes' hubs\n",
    "        candidates = []\n",
    "        for i in range(len(solution)):\n",
    "            if i != solution[i]:\n",
    "                for j in range(i,len(solution)):\n",
    "                    solution_k = solution.copy()\n",
    "                    if j != solution[j] and solution[i] != solution[j]:\n",
    "                        subtitute = solution_k[i]\n",
    "                        solution_k[i] = solution_k[j]\n",
    "                        solution_k[j] = subtitute\n",
    "                        waiting_list = solution_k.copy()\n",
    "                        candidates.append(waiting_list)\n",
    "        return candidates\n",
    "\n",
    "    \n",
    "    elif n == 3:\n",
    "        #change hub for one node\n",
    "        candidates = []\n",
    "        for i in range(len(solution)):\n",
    "            origin_hub = hub.copy()\n",
    "            base_solution = solution.copy()\n",
    "            if i != base_solution[i]:\n",
    "                origin_hub.remove(base_solution[i])\n",
    "                for j in origin_hub:    \n",
    "                    base_solution[i] = j\n",
    "                    waiting_list = base_solution.copy()\n",
    "                    candidates.append(waiting_list)\n",
    "    \n",
    "        return candidates\n",
    "        \n",
    "\n",
    "    elif n == 4:\n",
    "        #swap two hubs's nodes\n",
    "        candidates = []\n",
    "        candidate = solution.copy()\n",
    "        base_hub = hub.copy()\n",
    "        for i in range(len(hub)):\n",
    "            if i != len(base_hub)-1:\n",
    "                subtitute = base_hub[i+1]\n",
    "            else:\n",
    "                subtitute = base_hub[0]\n",
    "            for j in range(len(solution)):\n",
    "                if candidate[j] == subtitute and j != candidate[j]:\n",
    "                    candidate[j] = base_hub[i]\n",
    "                    if j != candidate[j] and candidate[j] == base_hub[i]:\n",
    "                        candidate[j] = subtitute\n",
    "            waiting_list = candidate.copy()\n",
    "            candidates.append(waiting_list)\n",
    "        return candidates\n",
    "            \n",
    "        \n",
    "def find_best_candidate(candidates,alpha):\n",
    "    potential_candidate = candidates.copy()\n",
    "    total_cost = find_total_cost(potential_candidate[0],alpha)\n",
    "    best_candidate = potential_candidate[0]\n",
    "    for i in potential_candidate:\n",
    "        candidate_cost = find_total_cost(i,alpha)\n",
    "        if candidate_cost < total_cost:\n",
    "            best_candidate = i\n",
    "            total_cost = candidate_cost\n",
    "    return best_candidate\n"
   ]
  },
  {
   "cell_type": "code",
   "execution_count": 42,
   "metadata": {
    "scrolled": true
   },
   "outputs": [
    {
     "name": "stdout",
     "output_type": "stream",
     "text": [
      "[5 5 5 3 5 5 6 6 5 6]\n",
      "[3, 5, 6]\n"
     ]
    },
    {
     "data": {
      "text/plain": [
       "491.9343312144029"
      ]
     },
     "execution_count": 42,
     "metadata": {},
     "output_type": "execute_result"
    }
   ],
   "source": [
    "#variable neighbourhood descent            \n",
    "def vnd(hub,solution,max_tik,alpha):    \n",
    "    solution_i = solution.copy()\n",
    "    best_solution = solution_i\n",
    "    tik = 1\n",
    "    while tik <= max_tik:\n",
    "        for i in range(1,5):\n",
    "            candidates = neighbourhood_structure(solution_i,hub,i)\n",
    "            #print(candidates)\n",
    "            best_candidate = find_best_candidate(candidates,alpha)\n",
    "            #print(best_candidate)\n",
    "            #print(list(set(best_candidate)))\n",
    "            if find_total_cost(best_candidate,alpha) < find_total_cost(solution_i,alpha):\n",
    "                solution_i = best_candidate\n",
    "            elif find_total_cost(best_candidate,alpha) < find_total_cost(best_solution,alpha):\n",
    "                best_solution = best_candidate    \n",
    "            hub = list(set(solution_i))\n",
    "        tik = tik + 1\n",
    "    return best_solution\n",
    "\n",
    "vnd_solution = vnd(hub,solution,50,0.2)\n",
    "final_vnd_cost = find_total_cost(vnd_solution,0.2)\n",
    "print(vnd_solution)\n",
    "vnd_hub = list(set(vnd_solution))\n",
    "print(vnd_hub)\n",
    "optimal_vnd = final_vnd_cost/total_flow\n",
    "optimal_vnd"
   ]
  },
  {
   "cell_type": "code",
   "execution_count": 65,
   "metadata": {
    "scrolled": true
   },
   "outputs": [
    {
     "name": "stdout",
     "output_type": "stream",
     "text": [
      "[7 9 9 3 7 9 3 7 7 9]\n",
      "[9, 3, 7]\n"
     ]
    },
    {
     "data": {
      "text/plain": [
       "1575.895544323531"
      ]
     },
     "execution_count": 65,
     "metadata": {},
     "output_type": "execute_result"
    }
   ],
   "source": [
    "#RVNS(something go wrong)\n",
    "def rvns(hub,solution,max_tik,alpha):    \n",
    "    solution_i = solution.copy()\n",
    "    best_solution = solution_i\n",
    "    tik = 1\n",
    "    k = 1\n",
    "    while tik <= max_tik:\n",
    "        candidates = neighbourhood_structure(solution_i,hub,k)\n",
    "        #print(candidates)\n",
    "        ran = random.randint(0,len(candidates)-1)\n",
    "        candidate = candidates[ran]\n",
    "        #print(candidate)\n",
    "        #print(k)\n",
    "        if find_total_cost(candidate,alpha) < find_total_cost(candidate,alpha):\n",
    "            solution_i = candidate\n",
    "            k = 1\n",
    "            if find_total_cost(candidate,alpha) < find_total_cost(best_solution,alpha):\n",
    "                best_solution = candidate\n",
    "        else:\n",
    "            if k == 4:\n",
    "                k = 1\n",
    "            else:  \n",
    "                k = k + 1\n",
    "        hub = list(set(solution_i))\n",
    "        tik = tik + 1\n",
    "    return best_solution\n",
    "\n",
    "rvns_solution = rvns(hub,solution,50,0.2)\n",
    "final_rvns_cost = find_total_cost(rvns_solution,0.2)\n",
    "print(rvns_solution)\n",
    "rvns_hub = list(set(rvns_solution))\n",
    "print(rvns_hub)\n",
    "optimal_rvns = final_rvns_cost/total_flow\n",
    "optimal_rvns"
   ]
  },
  {
   "cell_type": "code",
   "execution_count": 53,
   "metadata": {},
   "outputs": [
    {
     "name": "stdout",
     "output_type": "stream",
     "text": [
      "[5 5 5 3 5 5 6 6 5 6]\n",
      "[3, 5, 6]\n"
     ]
    },
    {
     "data": {
      "text/plain": [
       "491.9343312144029"
      ]
     },
     "execution_count": 53,
     "metadata": {},
     "output_type": "execute_result"
    }
   ],
   "source": [
    "#SVNS\n",
    "def svns(solution,hub,max_tik,alpha,gamma):\n",
    "    solution_i = solution.copy()\n",
    "    best_solution = solution.copy()\n",
    "    hub_i = hub.copy()\n",
    "    tik = 0\n",
    "    while tik <= max_tik:\n",
    "        for i in range(1,5):\n",
    "            candidates = neighbourhood_structure(solution_i,hub_i,i)\n",
    "            ran = random.randint(0,len(candidates)-1)\n",
    "            candidate = candidates[ran]\n",
    "            #print(candidate)\n",
    "            if find_total_cost(candidate,alpha) < find_total_cost(solution_i,alpha):\n",
    "                solution_i = candidate\n",
    "            candidates_2 = neighbourhood_structure(candidate,hub_i,i)\n",
    "            best_candidate = find_best_candidate(candidates_2,alpha)\n",
    "            if find_total_cost(best_candidate,alpha) < find_total_cost(solution_i,alpha):\n",
    "                solution_i = best_candidate\n",
    "                if find_total_cost(best_candidate,alpha) < find_total_cost(best_solution,alpha):\n",
    "                    best_solution = best_candidate\n",
    "            elif find_total_cost(best_candidate,alpha) - gamma * (find_total_cost(best_candidate,alpha) - find_total_cost(solution_i,alpha)) < find_total_cost(solution_i,alpha):\n",
    "                    solution_i = best_candidate\n",
    "            hub_i = list(set(solution_i))\n",
    "            tik = tik + 1\n",
    "                    \n",
    "    return best_solution\n",
    "            \n",
    "svns_solution = svns(solution,hub,50,0.2,0.2)\n",
    "final_svns_cost = find_total_cost(svns_solution,0.2)\n",
    "print(svns_solution)\n",
    "svns_hub = list(set(svns_solution))\n",
    "print(svns_hub)\n",
    "optimal_svns = final_svns_cost/total_flow\n",
    "optimal_svns        \n"
   ]
  },
  {
   "cell_type": "code",
   "execution_count": 45,
   "metadata": {},
   "outputs": [
    {
     "name": "stdout",
     "output_type": "stream",
     "text": [
      "[5 5 5 3 5 5 6 6 5 6]\n",
      "[3, 5, 6]\n"
     ]
    },
    {
     "data": {
      "text/plain": [
       "491.9343312144029"
      ]
     },
     "execution_count": 45,
     "metadata": {},
     "output_type": "execute_result"
    }
   ],
   "source": [
    "#RRVNS\n",
    "def rrvns(solution,hub,max_tik,alpha):\n",
    "    tik = 0\n",
    "    solution_i = solution.copy()\n",
    "    hub_i = hub.copy()\n",
    "    best_solution = solution_i\n",
    "    while tik <= max_tik:\n",
    "        for i in range(1,5):\n",
    "            candidates = neighbourhood_structure(solution_i,hub_i,i)\n",
    "            #print(candidates)\n",
    "            best_candidate = find_best_candidate(candidates,alpha)\n",
    "            if find_total_cost(best_candidate,alpha) < find_total_cost(solution_i,alpha):\n",
    "                solution_i = best_candidate\n",
    "                hub_i = list(set(solution_i))\n",
    "        if find_total_cost(solution_i,alpha) < find_total_cost(best_solution,alpha):\n",
    "            best_solution = solution_i\n",
    "        tik = tik + 1\n",
    "    return best_solution\n",
    "    \n",
    "rrvns_solution = rrvns(solution,hub,50,0.2)\n",
    "final_rrvns_cost = find_total_cost(rrvns_solution,0.2)\n",
    "print(rrvns_solution)\n",
    "rrvns_hub = list(set(rrvns_solution))\n",
    "print(rrvns_hub)\n",
    "optimal_rrvns = final_rrvns_cost/total_flow\n",
    "optimal_rrvns"
   ]
  },
  {
   "cell_type": "code",
   "execution_count": null,
   "metadata": {},
   "outputs": [],
   "source": []
  }
 ],
 "metadata": {
  "kernelspec": {
   "display_name": "Python 3",
   "language": "python",
   "name": "python3"
  },
  "language_info": {
   "codemirror_mode": {
    "name": "ipython",
    "version": 3
   },
   "file_extension": ".py",
   "mimetype": "text/x-python",
   "name": "python",
   "nbconvert_exporter": "python",
   "pygments_lexer": "ipython3",
   "version": "3.7.4"
  }
 },
 "nbformat": 4,
 "nbformat_minor": 2
}
