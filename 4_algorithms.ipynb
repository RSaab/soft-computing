{
 "cells": [
  {
   "cell_type": "code",
   "execution_count": 120,
   "metadata": {},
   "outputs": [],
   "source": [
    "import pandas as pd\n",
    "import random \n",
    "import math\n",
    "cost_matrix = pd.read_csv('Cost_matrix10.csv',header=None)\n",
    "flow_matrix = pd.read_csv('Flow_matrix10.csv',header=None)"
   ]
  },
  {
   "cell_type": "code",
   "execution_count": 121,
   "metadata": {},
   "outputs": [],
   "source": [
    "def generate_hubs(number_of_nodes,number_of_hubs):\n",
    "    hubs = []\n",
    "    while len(hubs)< number_of_hubs:\n",
    "        random_number = random.randint(0,9)\n",
    "        if random_number not in hubs:\n",
    "            hubs.append(random_number)\n",
    "    return hubs"
   ]
  },
  {
   "cell_type": "code",
   "execution_count": 122,
   "metadata": {},
   "outputs": [],
   "source": [
    "def calculate_total_cost(cost_matrix,flow_matrix,alpha,solution):\n",
    "    total_flow = (flow_matrix.sum()).sum()\n",
    "    total_cost = 0\n",
    "    for i in range(len(flow_matrix)):\n",
    "        for j in range(len(flow_matrix)):\n",
    "            collection_cost = flow_matrix[i][j] * cost_matrix[i][solution[i]]\n",
    "            transportation_cost = flow_matrix[i][j] * cost_matrix[solution[i]][solution[j]] * alpha\n",
    "            distribution_cost = flow_matrix[i][j] * cost_matrix[solution[j]][j]\n",
    "            cost = collection_cost + transportation_cost + distribution_cost\n",
    "            total_cost += cost\n",
    "    return total_cost/total_flow"
   ]
  },
  {
   "cell_type": "markdown",
   "metadata": {},
   "source": [
    "#  get_initial_solution"
   ]
  },
  {
   "cell_type": "code",
   "execution_count": 123,
   "metadata": {},
   "outputs": [],
   "source": [
    "def get_initial_solution(cost_matrix,flow_matrix,alpha,number_of_hubs):\n",
    "    solution = [0 for _ in range(len(flow_matrix))]\n",
    "    #solution = []\n",
    "    #randomly select certain number of hubs\n",
    "    #hubs = generate_hubs(len(flow_matrix),number_of_hubs)\n",
    "    hubs = [3,5,6]\n",
    "    '''#allocate nodes to their nearest hubs\n",
    "    for i in range(len(cost_matrix)):\n",
    "        target_hub = hubs[0]\n",
    "        for hub in hubs:\n",
    "            if cost_matrix[i][hub]< cost_matrix[i][target_hub]:\n",
    "                target_hub = hub\n",
    "        solution.append(target_hub)'''\n",
    "    #randomly allocate nodes to hubs\n",
    "    for i in range(len(flow_matrix)):\n",
    "        if i not in hubs:\n",
    "            random_number = random.randint(0,number_of_hubs-1)\n",
    "            solution[i] = hubs[random_number]\n",
    "        else:\n",
    "            solution[i] = i\n",
    "    # calculate total_cost follow Spoke-Hub-Hub-spoke strategy\n",
    "    whole_cost = calculate_total_cost(cost_matrix,flow_matrix,alpha,solution)\n",
    "    return hubs,solution,whole_cost"
   ]
  },
  {
   "cell_type": "markdown",
   "metadata": {},
   "source": [
    "# Tabu_Search "
   ]
  },
  {
   "cell_type": "code",
   "execution_count": 124,
   "metadata": {},
   "outputs": [],
   "source": [
    "def Tabu_Search(cost_matrix,flow_matrix,alpha,number_of_hubs):\n",
    "    current_hubs,current_solution,whole_cost = get_initial_solution(cost_matrix,flow_matrix,alpha,number_of_hubs)\n",
    "    print(current_hubs)\n",
    "    best_solution = {}\n",
    "    best_solution['solution'] = current_solution.copy()\n",
    "    best_solution['cost'] = whole_cost\n",
    "    tabulist = []\n",
    "    interation = 0\n",
    "    while interation < 50:\n",
    "        neighbours = []\n",
    "        for i in range(len(flow_matrix)):\n",
    "            if i not in current_hubs and i not in tabulist:\n",
    "                for hub in current_hubs:\n",
    "                    if hub != current_solution[i]:\n",
    "                        neighbour_solution = current_solution.copy()\n",
    "                        neighbour_solution[i] = hub\n",
    "                        neighbour_dict = {}\n",
    "                        neighbour_dict['solution'] = neighbour_solution.copy()\n",
    "                        neighbour_dict['node'] = i\n",
    "                        neighbour_dict['cost'] = calculate_total_cost(cost_matrix,flow_matrix,alpha,neighbour_solution)\n",
    "                        neighbours.append(neighbour_dict)\n",
    "        best_neighbour = sorted(neighbours,key = (lambda neighbour: neighbour['cost']))[0].copy()\n",
    "        #refresh tabu list\n",
    "        if interation < 5:\n",
    "            tabulist.append(best_neighbour['node'])\n",
    "        else:\n",
    "            tabulist[interation%5] = best_neighbour['node']\n",
    "        #refresh current solution\n",
    "        current_solution = best_neighbour['solution'].copy()\n",
    "        #refresh best solution \n",
    "        if best_neighbour['cost'] < best_solution['cost']:\n",
    "            best_solution['solution'] = best_neighbour['solution'].copy()\n",
    "            best_solution['cost'] = best_neighbour['cost']\n",
    "        #refresh move\n",
    "        interation += 1\n",
    "    return best_solution"
   ]
  },
  {
   "cell_type": "markdown",
   "metadata": {},
   "source": [
    "# Simulated_Annealing"
   ]
  },
  {
   "cell_type": "code",
   "execution_count": 125,
   "metadata": {},
   "outputs": [],
   "source": [
    "def Simulated_Annealing(cost_matrix,flow_matrix,alpha,number_of_hubs):\n",
    "    current_hubs,current_solution,current_cost = get_initial_solution(cost_matrix,flow_matrix,alpha,number_of_hubs)\n",
    "    best_solution = {}\n",
    "    best_solution['solution'] = current_solution.copy()\n",
    "    best_solution['cost'] = current_cost\n",
    "    interation = 0\n",
    "    r = 0\n",
    "    theda_min = 1\n",
    "    theda = 1.2\n",
    "    lumbda = 0.8\n",
    "    while interation < 50:\n",
    "        #randomly generate a neighbour\n",
    "        while 1:\n",
    "            node = random.randint(0,9)\n",
    "            if node not in current_hubs:\n",
    "                while 1:\n",
    "                    change = random.randint(0,2)\n",
    "                    if current_hubs[change] != current_solution[node]:\n",
    "                        break\n",
    "                break\n",
    "        neighbour_solution = current_solution.copy()\n",
    "        neighbour_solution[node] = current_hubs[change_hub]\n",
    "        neighbour_cost = calculate_total_cost(cost_matrix,flow_matrix,alpha,neighbour_solution)\n",
    "        #determine whether accept a neighbour\n",
    "        if neighbour_cost < current_cost:\n",
    "            current_solution = neighbour_solution.copy()\n",
    "            current_cost = neighbour_cost\n",
    "            if current_cost < best_solution['cost']:\n",
    "                best_solution['solution'] = current_solution.copy()\n",
    "                best_solution['cost'] = current_cost\n",
    "                r = 0\n",
    "        else:\n",
    "            R = random.random()\n",
    "            p = math.exp((current_cost-neighbour_cost)/theda)\n",
    "            if R < p:\n",
    "                if current_cost != neighbour_cost:\n",
    "                    r = r+1\n",
    "                current_solution = neighbour_solution.copy()\n",
    "                current_cost = neighbour_cost\n",
    "                theda = theda_min + lumbda*math.log(1+r)\n",
    "        interation +=1\n",
    "    return best_solution"
   ]
  },
  {
   "cell_type": "markdown",
   "metadata": {},
   "source": [
    " # Reduced_variable_neighbourhood_search"
   ]
  },
  {
   "cell_type": "code",
   "execution_count": 143,
   "metadata": {},
   "outputs": [],
   "source": [
    "import random\n",
    "def neighbourhood_structure1(hubs,solution):\n",
    "    while 1:\n",
    "        node = random.randint(0,9)\n",
    "        if node not in hubs:\n",
    "            hub_index = random.randint(0,2)\n",
    "            for i in range(len(solution)):\n",
    "                if solution[i] == hubs[hub_index]:\n",
    "                    solution[i] = node\n",
    "            hubs[hub_index] = node\n",
    "        break\n",
    "    return hubs,solution                    "
   ]
  },
  {
   "cell_type": "code",
   "execution_count": 144,
   "metadata": {},
   "outputs": [],
   "source": [
    "def neighbourhood_structure2(hubs,solution):\n",
    "    while 1:\n",
    "        node1 = random.randint(0,9)\n",
    "        if node1 not in hubs:\n",
    "            while 1:\n",
    "                node2 = random.randint(0,9)\n",
    "                if node2 not in hubs and node2 != node1 and solution[node1] != solution[node2]:\n",
    "                    box = solution[node1]\n",
    "                    solution[node1] = solution[node2]\n",
    "                    solution[node2] = box\n",
    "                    break\n",
    "            break\n",
    "    return hubs,solution"
   ]
  },
  {
   "cell_type": "code",
   "execution_count": 145,
   "metadata": {},
   "outputs": [],
   "source": [
    "def neighbourhood_structure3(hubs,solution):\n",
    "    while 1:\n",
    "        node = random.randint(0,9)\n",
    "        if node not in hubs:\n",
    "            while 1:\n",
    "                change_hub_index = random.randint(0,2)\n",
    "                if hubs[change_hub_index] != solution[node]:\n",
    "                    break\n",
    "            break\n",
    "    solution[node] = hubs[change_hub_index]\n",
    "    return hubs,solution"
   ]
  },
  {
   "cell_type": "code",
   "execution_count": 212,
   "metadata": {},
   "outputs": [],
   "source": [
    "def neighbourhood_structure4(hubs,solution):\n",
    "    hub1_index = random.randint(0,2)\n",
    "    while 1:\n",
    "        hub2_index = random.randint(0,2)\n",
    "        if hub2_index != hub1_index:\n",
    "            break\n",
    "    for i in range(len(solution)):\n",
    "        if solution[i] == hubs[hub1_index] and solution[i] != i:\n",
    "            solution[i] = hubs[hub2_index]\n",
    "        elif solution[i] == hubs[hub2_index] and solution[1] != i:\n",
    "            solution[i] = hubs[hub1_index]\n",
    "    return hubs,solution"
   ]
  },
  {
   "cell_type": "code",
   "execution_count": 147,
   "metadata": {},
   "outputs": [],
   "source": [
    "def search_neighbourhood(k,hubs,solution):\n",
    "    if k == 1:\n",
    "        hubs,solution = neighbourhood_structure1(hubs,solution)\n",
    "    if k == 2:\n",
    "        hubs,solution = neighbourhood_structure2(hubs,solution)\n",
    "    if k == 3:\n",
    "        hubs,solution = neighbourhood_structure3(hubs,solution)\n",
    "    if k == 4:\n",
    "        hubs,solution = neighbourhood_structure4(hubs,solution)\n",
    "    return hubs,solution"
   ]
  },
  {
   "cell_type": "code",
   "execution_count": 160,
   "metadata": {},
   "outputs": [],
   "source": [
    "def reduced_variable_neighbourhood_search(cost_matrix,flow_matrix,alpha,number_of_hubs):\n",
    "    current_hubs,current_solution,current_cost = get_initial_solution(cost_matrix,flow_matrix,alpha,number_of_hubs)\n",
    "    best_solution = {}\n",
    "    best_solution['solution'] = current_solution.copy()\n",
    "    best_solution['cost'] = current_cost\n",
    "    interation = 0\n",
    "    while interation < 20:\n",
    "        k = 1\n",
    "        #go though 4 neibourghhood structure\n",
    "        while k < 5:\n",
    "            neighbour_solution = current_solution.copy()\n",
    "            neighbour_hubs = current_hubs.copy()\n",
    "            search_neighbourhood(k,neighbour_hubs,neighbour_solution)\n",
    "            neighbour_cost = calculate_total_cost(cost_matrix,flow_matrix,alpha,neighbour_solution)\n",
    "            if neighbour_cost < current_cost:\n",
    "                current_hubs = neighbour_hubs.copy()\n",
    "                current_solution = neighbour_solution.copy()\n",
    "                current_cost = neighbour_cost\n",
    "                k += 1\n",
    "                if neighbour_cost < best_solution['cost']:\n",
    "                    best_solution['solution'] = neighbour_solution.copy()\n",
    "                    best_solution['cost'] = neighbour_cost\n",
    "            else:\n",
    "                k += 1\n",
    "        interation += 1\n",
    "    return best_solution\n",
    "            "
   ]
  },
  {
   "cell_type": "code",
   "execution_count": 161,
   "metadata": {},
   "outputs": [
    {
     "data": {
      "text/plain": [
       "{'cost': 495.67558352919735, 'solution': [5, 5, 5, 3, 3, 5, 6, 6, 5, 6]}"
      ]
     },
     "execution_count": 161,
     "metadata": {},
     "output_type": "execute_result"
    }
   ],
   "source": [
    "solution1 = reduced_variable_neighbourhood_search(cost_matrix,flow_matrix,0.2,3)\n",
    "solution1"
   ]
  },
  {
   "cell_type": "markdown",
   "metadata": {},
   "source": [
    "# Revised Reduced Variable Neighbourhood Search "
   ]
  },
  {
   "cell_type": "code",
   "execution_count": 243,
   "metadata": {},
   "outputs": [],
   "source": [
    "def get_best_neighbour_solution(solution_list,alpha):\n",
    "    best_neighbour_solution = []\n",
    "    best_neighbour_cost = 10000\n",
    "    for item in solution_list:\n",
    "        neighbour_cost = calculate_total_cost(cost_matrix,flow_matrix,alpha,item)\n",
    "        if neighbour_cost < best_neighbour_cost:\n",
    "            best_neighbour_solution = item.copy()\n",
    "            best_neighbour_cost = neighbour_cost\n",
    "    return best_neighbour_solution,best_neighbour_cost"
   ]
  },
  {
   "cell_type": "code",
   "execution_count": 246,
   "metadata": {},
   "outputs": [],
   "source": [
    "def get_best_solution_in_neighbourhood_structure1(cost_matrix,flow_matrix,alpha,hubs,solution):\n",
    "    nodes = []\n",
    "    neighbours = []\n",
    "    for item in [0,1,2,3,4,5,6,7,8,9]:\n",
    "        if item not in hubs:\n",
    "            nodes.append(item)\n",
    "    #print(nodes)\n",
    "    for hub in hubs:\n",
    "        for node in nodes:\n",
    "            neighbour_solution = solution.copy()\n",
    "            for i in range(len(solution)):\n",
    "                if neighbour_solution[i] == hub:\n",
    "                    neighbour_solution[i] = node\n",
    "            neighbours.append(neighbour_solution)\n",
    "    #print(len(neighbours))\n",
    "    best_neighbour_solution,best_neighbour_cost = get_best_neighbour_solution(neighbours,alpha)\n",
    "    return best_neighbour_solution\n"
   ]
  },
  {
   "cell_type": "code",
   "execution_count": 247,
   "metadata": {},
   "outputs": [],
   "source": [
    "def get_best_solution_in_neighbourhood_structure2(cost_matrix,flow_matrix,alpha,hubs,solution):\n",
    "    nodes = []\n",
    "    neighbours = []\n",
    "    for item in [0,1,2,3,4,5,6,7,8,9]:\n",
    "        if item not in hubs:\n",
    "            nodes.append(item)\n",
    "    for i in range(len(nodes)-1):\n",
    "        for j in range(i+1,len(nodes)):\n",
    "            neighbour_solution = solution.copy()\n",
    "            box = neighbour_solution[i]\n",
    "            neighbour_solution[i] = neighbour_solution[j]\n",
    "            neighbour_solution[j] = box\n",
    "            neighbours.append(neighbour_solution)\n",
    "    #print(len(neighbours))\n",
    "    best_neighbour_solution,best_neighbour_cost = get_best_neighbour_solution(neighbours,alpha)\n",
    "    return best_neighbour_solution"
   ]
  },
  {
   "cell_type": "code",
   "execution_count": 248,
   "metadata": {},
   "outputs": [],
   "source": [
    "def get_best_solution_in_neighbourhood_structure3(cost_matrix,flow_matrix,alpha,hubs,solution):\n",
    "    nodes = []\n",
    "    neighbours = []\n",
    "    for item in [0,1,2,3,4,5,6,7,8,9]:\n",
    "        if item not in hubs:\n",
    "            nodes.append(item)\n",
    "    for node in nodes:\n",
    "        for hub in hubs:\n",
    "            neighbour_solution = solution.copy()\n",
    "            if hub != neighbour_solution[node]:\n",
    "                neighbour_solution[node] = hub\n",
    "                neighbours.append(neighbour_solution)\n",
    "    best_neighbour_solution,best_neighbour_cost = get_best_neighbour_solution(neighbours,alpha)\n",
    "    return best_neighbour_solution"
   ]
  },
  {
   "cell_type": "code",
   "execution_count": 249,
   "metadata": {},
   "outputs": [],
   "source": [
    "def get_best_solution_in_neighbourhood_structure4(cost_matrix,flow_matrix,alpha,hubs,solution):\n",
    "    neighbours = []\n",
    "    for i in range(len(hubs)-1):\n",
    "        for j in range(i+1,len(hubs)):\n",
    "            neighbour_solution = solution.copy()\n",
    "            for n in range(len(neighbour_solution)):\n",
    "                if neighbour_solution[n] == hubs[i] and neighbour_solution[n] != n:\n",
    "                    neighbour_solution[n] = hubs[j]\n",
    "                elif neighbour_solution[n] == hubs[j] and neighbour_solution[n] != n:\n",
    "                    neighbour_solution[n] = hubs[i]\n",
    "            neighbours.append(neighbour_solution)\n",
    "    #print(len(neighbours))\n",
    "    best_neighbour_solution,best_neighbour_cost = get_best_neighbour_solution(neighbours,alpha)\n",
    "    return best_neighbour_solution               "
   ]
  },
  {
   "cell_type": "code",
   "execution_count": 250,
   "metadata": {},
   "outputs": [],
   "source": [
    "def get_best_solution_among_all_beighbourhood_structure(cost_matrix,flow_matrix,alpha,hubs,solution):\n",
    "    all_best_neighbours = []\n",
    "    all_best_neighbours.append(get_best_solution_in_neighbourhood_structure1(cost_matrix,flow_matrix,alpha,hubs,solution))\n",
    "    all_best_neighbours.append(get_best_solution_in_neighbourhood_structure2(cost_matrix,flow_matrix,alpha,hubs,solution))\n",
    "    all_best_neighbours.append(get_best_solution_in_neighbourhood_structure3(cost_matrix,flow_matrix,alpha,hubs,solution))\n",
    "    all_best_neighbours.append(get_best_solution_in_neighbourhood_structure4(cost_matrix,flow_matrix,alpha,hubs,solution))\n",
    "    #print(all_best_neighbours)\n",
    "    best_all_neighbour_solution,best_all_neighbour_cost = get_best_neighbour_solution(all_best_neighbours,alpha)\n",
    "    return best_all_neighbour_solution,best_all_neighbour_cost               "
   ]
  },
  {
   "cell_type": "code",
   "execution_count": 251,
   "metadata": {},
   "outputs": [],
   "source": [
    "def RRVNS(cost_matrix,flow_matrix,alpha,number_of_hubs):\n",
    "    current_hubs,current_solution,current_cost = get_initial_solution(cost_matrix,flow_matrix,alpha,number_of_hubs)\n",
    "    best_solution = {}\n",
    "    best_solution['solution'] = current_solution.copy()\n",
    "    best_solution['cost'] = current_cost\n",
    "    interation = 0\n",
    "    while interation < 10:\n",
    "        solution1, cost1 = get_best_solution_among_all_beighbourhood_structure(cost_matrix,flow_matrix,alpha,current_hubs,current_solution)\n",
    "        new_hubs = []\n",
    "        for item in solution1:\n",
    "            if item not in new_hubs:\n",
    "                new_hubs.append(item)\n",
    "        current_solution = solution1.copy()\n",
    "        current_hubs = new_hubs.copy()\n",
    "        current_cost = cost1\n",
    "        if cost1 < best_solution['cost']:\n",
    "            best_solution['solution'] = solution1\n",
    "            best_solution['cost'] = cost1\n",
    "        interation += 1\n",
    "    return best_solution"
   ]
  },
  {
   "cell_type": "code",
   "execution_count": 252,
   "metadata": {},
   "outputs": [
    {
     "data": {
      "text/plain": [
       "{'cost': 491.9343312144026, 'solution': [5, 5, 5, 3, 5, 5, 6, 6, 5, 6]}"
      ]
     },
     "execution_count": 252,
     "metadata": {},
     "output_type": "execute_result"
    }
   ],
   "source": [
    "RRVNS(cost_matrix,flow_matrix,0.2,3)"
   ]
  },
  {
   "cell_type": "code",
   "execution_count": null,
   "metadata": {},
   "outputs": [],
   "source": []
  }
 ],
 "metadata": {
  "kernelspec": {
   "display_name": "Python 3",
   "language": "python",
   "name": "python3"
  },
  "language_info": {
   "codemirror_mode": {
    "name": "ipython",
    "version": 3
   },
   "file_extension": ".py",
   "mimetype": "text/x-python",
   "name": "python",
   "nbconvert_exporter": "python",
   "pygments_lexer": "ipython3",
   "version": "3.7.3"
  }
 },
 "nbformat": 4,
 "nbformat_minor": 2
}
